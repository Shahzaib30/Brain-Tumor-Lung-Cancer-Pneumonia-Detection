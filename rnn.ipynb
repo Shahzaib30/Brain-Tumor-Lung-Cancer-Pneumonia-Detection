{
 "cells": [
  {
   "cell_type": "code",
   "execution_count": 30,
   "metadata": {},
   "outputs": [],
   "source": [
    "import pandas as pd\n",
    "import torch\n",
    "import numpy as np\n",
    "import torch.nn as nn"
   ]
  },
  {
   "cell_type": "code",
   "execution_count": 2,
   "metadata": {},
   "outputs": [],
   "source": [
    "data = {\n",
    "    'timestep': range(1, 11),\n",
    "    'open': [10.5, 10.8, 11.0, 11.2, 11.3, 11.4, 11.5, 11.6, 11.7, 11.8],\n",
    "    'mid': [11.0, 11.2, 11.4, 11.5, 11.6, 11.7, 11.8, 11.9, 12.0, 12.1],\n",
    "    'closing': [10.8, 11.0, 11.2, 11.4, 11.5, 11.6, 11.7, 11.8, 11.9, 12.0]\n",
    "}\n",
    "df = pd.DataFrame(data)"
   ]
  },
  {
   "cell_type": "code",
   "execution_count": 3,
   "metadata": {},
   "outputs": [
    {
     "data": {
      "text/html": [
       "<div>\n",
       "<style scoped>\n",
       "    .dataframe tbody tr th:only-of-type {\n",
       "        vertical-align: middle;\n",
       "    }\n",
       "\n",
       "    .dataframe tbody tr th {\n",
       "        vertical-align: top;\n",
       "    }\n",
       "\n",
       "    .dataframe thead th {\n",
       "        text-align: right;\n",
       "    }\n",
       "</style>\n",
       "<table border=\"1\" class=\"dataframe\">\n",
       "  <thead>\n",
       "    <tr style=\"text-align: right;\">\n",
       "      <th></th>\n",
       "      <th>timestep</th>\n",
       "      <th>open</th>\n",
       "      <th>mid</th>\n",
       "      <th>closing</th>\n",
       "    </tr>\n",
       "  </thead>\n",
       "  <tbody>\n",
       "    <tr>\n",
       "      <th>0</th>\n",
       "      <td>1</td>\n",
       "      <td>10.5</td>\n",
       "      <td>11.0</td>\n",
       "      <td>10.8</td>\n",
       "    </tr>\n",
       "    <tr>\n",
       "      <th>1</th>\n",
       "      <td>2</td>\n",
       "      <td>10.8</td>\n",
       "      <td>11.2</td>\n",
       "      <td>11.0</td>\n",
       "    </tr>\n",
       "    <tr>\n",
       "      <th>2</th>\n",
       "      <td>3</td>\n",
       "      <td>11.0</td>\n",
       "      <td>11.4</td>\n",
       "      <td>11.2</td>\n",
       "    </tr>\n",
       "    <tr>\n",
       "      <th>3</th>\n",
       "      <td>4</td>\n",
       "      <td>11.2</td>\n",
       "      <td>11.5</td>\n",
       "      <td>11.4</td>\n",
       "    </tr>\n",
       "    <tr>\n",
       "      <th>4</th>\n",
       "      <td>5</td>\n",
       "      <td>11.3</td>\n",
       "      <td>11.6</td>\n",
       "      <td>11.5</td>\n",
       "    </tr>\n",
       "    <tr>\n",
       "      <th>5</th>\n",
       "      <td>6</td>\n",
       "      <td>11.4</td>\n",
       "      <td>11.7</td>\n",
       "      <td>11.6</td>\n",
       "    </tr>\n",
       "    <tr>\n",
       "      <th>6</th>\n",
       "      <td>7</td>\n",
       "      <td>11.5</td>\n",
       "      <td>11.8</td>\n",
       "      <td>11.7</td>\n",
       "    </tr>\n",
       "    <tr>\n",
       "      <th>7</th>\n",
       "      <td>8</td>\n",
       "      <td>11.6</td>\n",
       "      <td>11.9</td>\n",
       "      <td>11.8</td>\n",
       "    </tr>\n",
       "    <tr>\n",
       "      <th>8</th>\n",
       "      <td>9</td>\n",
       "      <td>11.7</td>\n",
       "      <td>12.0</td>\n",
       "      <td>11.9</td>\n",
       "    </tr>\n",
       "    <tr>\n",
       "      <th>9</th>\n",
       "      <td>10</td>\n",
       "      <td>11.8</td>\n",
       "      <td>12.1</td>\n",
       "      <td>12.0</td>\n",
       "    </tr>\n",
       "  </tbody>\n",
       "</table>\n",
       "</div>"
      ],
      "text/plain": [
       "   timestep  open   mid  closing\n",
       "0         1  10.5  11.0     10.8\n",
       "1         2  10.8  11.2     11.0\n",
       "2         3  11.0  11.4     11.2\n",
       "3         4  11.2  11.5     11.4\n",
       "4         5  11.3  11.6     11.5\n",
       "5         6  11.4  11.7     11.6\n",
       "6         7  11.5  11.8     11.7\n",
       "7         8  11.6  11.9     11.8\n",
       "8         9  11.7  12.0     11.9\n",
       "9        10  11.8  12.1     12.0"
      ]
     },
     "execution_count": 3,
     "metadata": {},
     "output_type": "execute_result"
    }
   ],
   "source": [
    "df"
   ]
  },
  {
   "cell_type": "code",
   "execution_count": 23,
   "metadata": {},
   "outputs": [],
   "source": [
    "def sequence(df, sequence_length=3):\n",
    "    xs,ys=[] ,[]\n",
    "    for i in range(len(df)-sequence_length):\n",
    "        x=df.iloc[i:(i+sequence_length),:]\n",
    "        y=df.iloc[i+sequence_length,3]\n",
    "        xs.append(x)\n",
    "        ys.append(y)\n",
    "    return np.array(xs),np.array(ys)\n",
    "x_train, y_train=sequence(df)"
   ]
  },
  {
   "cell_type": "code",
   "execution_count": 24,
   "metadata": {},
   "outputs": [
    {
     "data": {
      "text/plain": [
       "array([[[ 1. , 10.5, 11. , 10.8],\n",
       "        [ 2. , 10.8, 11.2, 11. ],\n",
       "        [ 3. , 11. , 11.4, 11.2]],\n",
       "\n",
       "       [[ 2. , 10.8, 11.2, 11. ],\n",
       "        [ 3. , 11. , 11.4, 11.2],\n",
       "        [ 4. , 11.2, 11.5, 11.4]],\n",
       "\n",
       "       [[ 3. , 11. , 11.4, 11.2],\n",
       "        [ 4. , 11.2, 11.5, 11.4],\n",
       "        [ 5. , 11.3, 11.6, 11.5]],\n",
       "\n",
       "       [[ 4. , 11.2, 11.5, 11.4],\n",
       "        [ 5. , 11.3, 11.6, 11.5],\n",
       "        [ 6. , 11.4, 11.7, 11.6]],\n",
       "\n",
       "       [[ 5. , 11.3, 11.6, 11.5],\n",
       "        [ 6. , 11.4, 11.7, 11.6],\n",
       "        [ 7. , 11.5, 11.8, 11.7]],\n",
       "\n",
       "       [[ 6. , 11.4, 11.7, 11.6],\n",
       "        [ 7. , 11.5, 11.8, 11.7],\n",
       "        [ 8. , 11.6, 11.9, 11.8]],\n",
       "\n",
       "       [[ 7. , 11.5, 11.8, 11.7],\n",
       "        [ 8. , 11.6, 11.9, 11.8],\n",
       "        [ 9. , 11.7, 12. , 11.9]]])"
      ]
     },
     "execution_count": 24,
     "metadata": {},
     "output_type": "execute_result"
    }
   ],
   "source": [
    "x_train"
   ]
  },
  {
   "cell_type": "code",
   "execution_count": 25,
   "metadata": {},
   "outputs": [
    {
     "data": {
      "text/plain": [
       "array([11.4, 11.5, 11.6, 11.7, 11.8, 11.9, 12. ])"
      ]
     },
     "execution_count": 25,
     "metadata": {},
     "output_type": "execute_result"
    }
   ],
   "source": [
    "y_train"
   ]
  },
  {
   "cell_type": "code",
   "execution_count": 27,
   "metadata": {},
   "outputs": [],
   "source": [
    "x_tensor=torch.tensor(x_train)\n",
    "y_tensor=torch.tensor(y_train)"
   ]
  },
  {
   "cell_type": "code",
   "execution_count": 28,
   "metadata": {},
   "outputs": [
    {
     "data": {
      "text/plain": [
       "torch.Size([7, 3, 4])"
      ]
     },
     "execution_count": 28,
     "metadata": {},
     "output_type": "execute_result"
    }
   ],
   "source": [
    "x_tensor.shape\n"
   ]
  },
  {
   "cell_type": "code",
   "execution_count": 29,
   "metadata": {},
   "outputs": [
    {
     "data": {
      "text/plain": [
       "torch.Size([7])"
      ]
     },
     "execution_count": 29,
     "metadata": {},
     "output_type": "execute_result"
    }
   ],
   "source": [
    "y_tensor.shape"
   ]
  },
  {
   "cell_type": "code",
   "execution_count": null,
   "metadata": {},
   "outputs": [],
   "source": [
    "class RNN(nn.Module):\n",
    "    def __init__(self):\n",
    "        super(RNN).__init__()\n",
    "        self.rnn=nn.RNN(\n",
    "            input_size=3,\n",
    "            hidden_size=32,\n",
    "            num_layers=2,\n",
    "            batch_first=True\n",
    "        )\n",
    "        self.fc=nn.Linear(32,1)\n",
    "    def forward(self,x):\n",
    "        h0=torch.zeros(2,x.size(0),32)\n",
    "        out,_=self.rnn(x,h0)\n",
    "        out=self.fc(out[:,-1,:])\n",
    "        return out\n"
   ]
  }
 ],
 "metadata": {
  "kernelspec": {
   "display_name": "my_env",
   "language": "python",
   "name": "python3"
  },
  "language_info": {
   "codemirror_mode": {
    "name": "ipython",
    "version": 3
   },
   "file_extension": ".py",
   "mimetype": "text/x-python",
   "name": "python",
   "nbconvert_exporter": "python",
   "pygments_lexer": "ipython3",
   "version": "3.12.3"
  }
 },
 "nbformat": 4,
 "nbformat_minor": 2
}
