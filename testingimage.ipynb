{
 "cells": [
  {
   "cell_type": "code",
   "execution_count": 1,
   "metadata": {},
   "outputs": [],
   "source": [
    "import os\n",
    "import matplotlib.pyplot as plt \n",
    "from torch.utils.data import DataLoader, Dataset\n",
    "from torchvision import transforms\n",
    "import torch.optim as optim\n",
    "import torch\n",
    "from tqdm import tqdm\n",
    "import torch.nn as nn\n",
    "import torch.nn.functional as F\n",
    "from sklearn.model_selection import train_test_split\n",
    "from PIL import Image"
   ]
  },
  {
   "cell_type": "code",
   "execution_count": 6,
   "metadata": {},
   "outputs": [],
   "source": [
    "transform = transforms.Compose([\n",
    "    transforms.Resize((224, 224)),  # Resize images to 224x224\n",
    "    transforms.Lambda(lambda x: x.convert('RGB') if x.mode == 'RGBA' else x.convert('RGB')),  # converted rgba and l grayscale into rgb\n",
    "    transforms.ToTensor(),  # Convert image to tensor\n",
    "    transforms.Normalize(mean=[0.485, 0.456, 0.406], std=[0.229, 0.224, 0.225])  # Normalize\n",
    "])"
   ]
  },
  {
   "cell_type": "code",
   "execution_count": 3,
   "metadata": {},
   "outputs": [
    {
     "name": "stdout",
     "output_type": "stream",
     "text": [
      "CNNModel(\n",
      "  (conv1): Conv2d(3, 32, kernel_size=(3, 3), stride=(1, 1), padding=(1, 1))\n",
      "  (conv2): Conv2d(32, 64, kernel_size=(3, 3), stride=(1, 1), padding=(1, 1))\n",
      "  (conv3): Conv2d(64, 128, kernel_size=(3, 3), stride=(1, 1), padding=(1, 1))\n",
      "  (pool): MaxPool2d(kernel_size=2, stride=2, padding=0, dilation=1, ceil_mode=False)\n",
      "  (fc1): Linear(in_features=100352, out_features=512, bias=True)\n",
      "  (fc2): Linear(in_features=512, out_features=10, bias=True)\n",
      ")\n"
     ]
    }
   ],
   "source": [
    "class CNNModel(nn.Module):\n",
    "    def __init__(self, num_classes):\n",
    "        super(CNNModel, self).__init__()\n",
    "        \n",
    "        self.conv1 = nn.Conv2d(in_channels=3, out_channels=32, kernel_size=3, stride=1, padding=1)  # 224x224 -> 224x224\n",
    "        self.conv2 = nn.Conv2d(in_channels=32, out_channels=64, kernel_size=3, stride=1, padding=1)  # 224x224 -> 224x224\n",
    "        self.conv3 = nn.Conv2d(in_channels=64, out_channels=128, kernel_size=3, stride=1, padding=1) # 224x224 -> 224x224\n",
    "        \n",
    "        self.pool = nn.MaxPool2d(kernel_size=2, stride=2, padding=0)  # Reduces size by half: 224x224 -> 112x112\n",
    "\n",
    "        self.fc1 = nn.Linear(128 * 28 * 28, 512)  # Flatten the 112x112x128 output to 512\n",
    "        self.fc2 = nn.Linear(512, num_classes)  # Output layer, number of classes (e.g., 2 for binary classification)\n",
    "\n",
    "    def forward(self, x):\n",
    "        x = self.pool(F.relu(self.conv1(x)))  # 224x224 -> 112x112\n",
    "        x = self.pool(F.relu(self.conv2(x)))  # 112x112 -> 56x56\n",
    "        x = self.pool(F.relu(self.conv3(x)))  # 56x56 -> 28x28\n",
    "\n",
    "        x = x.view(-1, 128 * 28 * 28)  # Flatten the tensor to a vector\n",
    "\n",
    "        x = F.relu(self.fc1(x))\n",
    "        x = self.fc2(x)\n",
    "        \n",
    "        return x\n",
    "\n",
    "model = CNNModel(num_classes=10)  # i have 10 output classes based on you can see in class_to_idx\n",
    "print(model)\n"
   ]
  },
  {
   "cell_type": "code",
   "execution_count": 7,
   "metadata": {},
   "outputs": [
    {
     "name": "stderr",
     "output_type": "stream",
     "text": [
      "/tmp/ipykernel_7023/30775028.py:2: FutureWarning: You are using `torch.load` with `weights_only=False` (the current default value), which uses the default pickle module implicitly. It is possible to construct malicious pickle data which will execute arbitrary code during unpickling (See https://github.com/pytorch/pytorch/blob/main/SECURITY.md#untrusted-models for more details). In a future release, the default value for `weights_only` will be flipped to `True`. This limits the functions that could be executed during unpickling. Arbitrary objects will no longer be allowed to be loaded via this mode unless they are explicitly allowlisted by the user via `torch.serialization.add_safe_globals`. We recommend you start setting `weights_only=True` for any use case where you don't have full control of the loaded file. Please open an issue on GitHub for any issues related to this experimental feature.\n",
      "  model_32.load_state_dict(torch.load(\"model_state_dict.pth\"))\n",
      "/tmp/ipykernel_7023/30775028.py:3: FutureWarning: You are using `torch.load` with `weights_only=False` (the current default value), which uses the default pickle module implicitly. It is possible to construct malicious pickle data which will execute arbitrary code during unpickling (See https://github.com/pytorch/pytorch/blob/main/SECURITY.md#untrusted-models for more details). In a future release, the default value for `weights_only` will be flipped to `True`. This limits the functions that could be executed during unpickling. Arbitrary objects will no longer be allowed to be loaded via this mode unless they are explicitly allowlisted by the user via `torch.serialization.add_safe_globals`. We recommend you start setting `weights_only=True` for any use case where you don't have full control of the loaded file. Please open an issue on GitHub for any issues related to this experimental feature.\n",
      "  data = torch.load('dataset_info.pth')\n"
     ]
    }
   ],
   "source": [
    "model_32=CNNModel(num_classes=10)\n",
    "model_32.load_state_dict(torch.load(\"model_state_dict.pth\"))\n",
    "data = torch.load('dataset_info.pth')\n",
    "class_to_idx = data['class_to_idx']"
   ]
  },
  {
   "cell_type": "code",
   "execution_count": 8,
   "metadata": {},
   "outputs": [
    {
     "data": {
      "text/plain": [
       "CNNModel(\n",
       "  (conv1): Conv2d(3, 32, kernel_size=(3, 3), stride=(1, 1), padding=(1, 1))\n",
       "  (conv2): Conv2d(32, 64, kernel_size=(3, 3), stride=(1, 1), padding=(1, 1))\n",
       "  (conv3): Conv2d(64, 128, kernel_size=(3, 3), stride=(1, 1), padding=(1, 1))\n",
       "  (pool): MaxPool2d(kernel_size=2, stride=2, padding=0, dilation=1, ceil_mode=False)\n",
       "  (fc1): Linear(in_features=100352, out_features=512, bias=True)\n",
       "  (fc2): Linear(in_features=512, out_features=10, bias=True)\n",
       ")"
      ]
     },
     "execution_count": 8,
     "metadata": {},
     "output_type": "execute_result"
    }
   ],
   "source": [
    "model_32.eval()"
   ]
  },
  {
   "cell_type": "code",
   "execution_count": 9,
   "metadata": {},
   "outputs": [
    {
     "name": "stdout",
     "output_type": "stream",
     "text": [
      "Image: brain tumor mein.jpeg | Predicted label: Brain Tumor 'Meningioma'\n",
      "Image: CT-CHEST-0002-1024x1012.jpg | Predicted label: Lung Cancer 'Adenocarcin oma'\n",
      "Image: pneumonia.jpeg | Predicted label: Normal XRAY No Pneumonia\n",
      "Image: 4c1383482027c97c445f418c9b74b3_big_gallery.jpg | Predicted label: No Lung Cancer in this CT Scan\n",
      "Image: brain tumor melegent.jpg | Predicted label: Brain Tumor 'Meningioma'\n",
      "Image: largecell carcinoma.jpeg | Predicted label: Lung Cancer 'Large Cell carcinoma'\n",
      "Image: Original-Lungs-CT-scan-image.png | Predicted label: Lung Cancer 'Large Cell carcinoma'\n",
      "Image: normal xray no p.jpeg | Predicted label: Normal XRAY No Pneumonia\n",
      "Image: normal xray.jpeg | Predicted label: Normal XRAY No Pneumonia\n",
      "Image: normal xray.jpg | Predicted label: Normal XRAY No Pneumonia\n",
      "Image: no tumor.jpg | Predicted label: No Brain Tumor in MRI\n",
      "Image: P1neumonia xray.jpeg | Predicted label: Normal XRAY No Pneumonia\n"
     ]
    }
   ],
   "source": [
    "test_folder = '/home/shahzaib/ANNProject/custom test images'  \n",
    "image_paths = [os.path.join(test_folder, fname) for fname in os.listdir(test_folder) if fname.endswith(('.jpg', '.jpeg', '.png'))] \n",
    "\n",
    "idx_to_class = {v: k for k, v in class_to_idx.items()}  \n",
    "\n",
    "for image_path in image_paths:\n",
    "   \n",
    "    image = Image.open(image_path)\n",
    "    image = transform(image).unsqueeze(0) \n",
    "    \n",
    "    # Make the prediction\n",
    "    with torch.no_grad():\n",
    "        outputs = model_32(image)\n",
    "        _, predicted_class = torch.max(outputs, 1)  \n",
    "    predicted_label = idx_to_class[predicted_class.item()]\n",
    "    \n",
    "    print(f\"Image: {os.path.basename(image_path)} | Predicted label: {predicted_label}\")"
   ]
  }
 ],
 "metadata": {
  "kernelspec": {
   "display_name": "my_env",
   "language": "python",
   "name": "python3"
  },
  "language_info": {
   "codemirror_mode": {
    "name": "ipython",
    "version": 3
   },
   "file_extension": ".py",
   "mimetype": "text/x-python",
   "name": "python",
   "nbconvert_exporter": "python",
   "pygments_lexer": "ipython3",
   "version": "3.12.3"
  }
 },
 "nbformat": 4,
 "nbformat_minor": 2
}
